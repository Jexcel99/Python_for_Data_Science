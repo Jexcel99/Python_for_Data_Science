{
 "cells": [
  {
   "cell_type": "markdown",
   "metadata": {},
   "source": [
    "# Intrduction to NumPy\n",
    "\n",
    "\n",
    "#### 1. Import NumPy under the name np."
   ]
  },
  {
   "cell_type": "code",
   "execution_count": 1,
   "metadata": {},
   "outputs": [],
   "source": [
    "import numpy as np"
   ]
  },
  {
   "cell_type": "markdown",
   "metadata": {},
   "source": [
    "#### 2. Print your NumPy version."
   ]
  },
  {
   "cell_type": "code",
   "execution_count": 4,
   "metadata": {},
   "outputs": [
    {
     "name": "stdout",
     "output_type": "stream",
     "text": [
      "1.26.4\n"
     ]
    }
   ],
   "source": [
    "import numpy as np\n",
    "print(np.__version__)"
   ]
  },
  {
   "cell_type": "markdown",
   "metadata": {},
   "source": [
    "#### 3. Generate a 2x3x5 3-dimensional array with random values. Assign the array to variable *a*.\n",
    "**Challenge**: there are at least three easy ways that use numpy to generate random arrays. How many ways can you find?"
   ]
  },
  {
   "cell_type": "code",
   "execution_count": 7,
   "metadata": {},
   "outputs": [
    {
     "data": {
      "text/plain": [
       "array([[0.7710105 , 0.23330414],\n",
       "       [0.37759993, 0.28950282],\n",
       "       [0.51339794, 0.5332065 ]])"
      ]
     },
     "execution_count": 7,
     "metadata": {},
     "output_type": "execute_result"
    }
   ],
   "source": [
    "np.random.rand(3, 2)"
   ]
  },
  {
   "cell_type": "code",
   "execution_count": 9,
   "metadata": {},
   "outputs": [
    {
     "data": {
      "text/plain": [
       "array([[-0.72364533,  0.98697949],\n",
       "       [ 0.43025384,  0.14022007],\n",
       "       [-0.16253638, -0.31446157]])"
      ]
     },
     "execution_count": 9,
     "metadata": {},
     "output_type": "execute_result"
    }
   ],
   "source": [
    "np.random.randn(3, 2)"
   ]
  },
  {
   "cell_type": "code",
   "execution_count": 11,
   "metadata": {},
   "outputs": [
    {
     "data": {
      "text/plain": [
       "array([[7, 1],\n",
       "       [0, 3],\n",
       "       [3, 8]])"
      ]
     },
     "execution_count": 11,
     "metadata": {},
     "output_type": "execute_result"
    }
   ],
   "source": [
    "np.random.randint(0, 10, size=(3, 2))"
   ]
  },
  {
   "cell_type": "markdown",
   "metadata": {},
   "source": [
    "#### 4. Print *a*.\n"
   ]
  },
  {
   "cell_type": "code",
   "execution_count": 20,
   "metadata": {},
   "outputs": [
    {
     "name": "stdout",
     "output_type": "stream",
     "text": [
      "[[0.62957977 0.16874548]\n",
      " [0.40335655 0.16130971]\n",
      " [0.03674067 0.10581922]]\n"
     ]
    }
   ],
   "source": [
    "a= np.random.rand(3, 2)\n",
    "print(a)"
   ]
  },
  {
   "cell_type": "markdown",
   "metadata": {},
   "source": [
    "#### 5. Create a 5x2x3 3-dimensional array with all values equaling 1. Assign the array to variable *b*."
   ]
  },
  {
   "cell_type": "code",
   "execution_count": 22,
   "metadata": {},
   "outputs": [],
   "source": [
    "b = np.ones((5, 2, 3))"
   ]
  },
  {
   "cell_type": "markdown",
   "metadata": {},
   "source": [
    "#### 6. Print *b*.\n"
   ]
  },
  {
   "cell_type": "code",
   "execution_count": 25,
   "metadata": {},
   "outputs": [
    {
     "name": "stdout",
     "output_type": "stream",
     "text": [
      "[[[1. 1. 1.]\n",
      "  [1. 1. 1.]]\n",
      "\n",
      " [[1. 1. 1.]\n",
      "  [1. 1. 1.]]\n",
      "\n",
      " [[1. 1. 1.]\n",
      "  [1. 1. 1.]]\n",
      "\n",
      " [[1. 1. 1.]\n",
      "  [1. 1. 1.]]\n",
      "\n",
      " [[1. 1. 1.]\n",
      "  [1. 1. 1.]]]\n"
     ]
    }
   ],
   "source": [
    "print(b)"
   ]
  },
  {
   "cell_type": "markdown",
   "metadata": {},
   "source": [
    "#### 7. Do *a* and *b* have the same size? How do you prove that in Python code?"
   ]
  },
  {
   "cell_type": "code",
   "execution_count": 28,
   "metadata": {
    "scrolled": true
   },
   "outputs": [
    {
     "name": "stdout",
     "output_type": "stream",
     "text": [
      "False\n"
     ]
    }
   ],
   "source": [
    "a= np.random.rand(3, 2)\n",
    "b = np.ones((5, 2, 3))\n",
    "print(a.size == b.size) "
   ]
  },
  {
   "cell_type": "markdown",
   "metadata": {},
   "source": [
    "#### 8. Are you able to add *a* and *b*? Why or why not?\n"
   ]
  },
  {
   "cell_type": "code",
   "execution_count": null,
   "metadata": {},
   "outputs": [],
   "source": [
    "No because de vector do not have the same size"
   ]
  },
  {
   "cell_type": "markdown",
   "metadata": {},
   "source": [
    "#### 9. Transpose *b* so that it has the same structure of *a* (i.e. become a 2x3x5 array). Assign the transposed array to variable *c*."
   ]
  },
  {
   "cell_type": "code",
   "execution_count": 30,
   "metadata": {},
   "outputs": [],
   "source": [
    "a= np.random.rand(2, 3,5)\n",
    "c = np.transpose(b, (1, 2, 0))"
   ]
  },
  {
   "cell_type": "markdown",
   "metadata": {},
   "source": [
    "#### 10. Try to add *a* and *c*. Now it should work. Assign the sum to variable *d*. But why does it work now?"
   ]
  },
  {
   "cell_type": "code",
   "execution_count": 33,
   "metadata": {},
   "outputs": [
    {
     "name": "stdout",
     "output_type": "stream",
     "text": [
      "[[[1.15657837 1.66157313 1.90585511 1.55729028 1.68528078]\n",
      "  [1.54217501 1.68376847 1.33261482 1.45314881 1.02946348]\n",
      "  [1.42287962 1.31126538 1.77528486 1.37708212 1.47762633]]\n",
      "\n",
      " [[1.25515175 1.8897084  1.21114273 1.43532507 1.43861866]\n",
      "  [1.80239005 1.08887557 1.55372881 1.76260528 1.99937611]\n",
      "  [1.13438457 1.7015668  1.89508288 1.40682671 1.72024678]]]\n"
     ]
    }
   ],
   "source": [
    "d = a + c\n",
    "print(d)"
   ]
  },
  {
   "cell_type": "markdown",
   "metadata": {},
   "source": [
    "#### 11. Print *a* and *d*. Notice the difference and relation of the two array in terms of the values? Explain."
   ]
  },
  {
   "cell_type": "code",
   "execution_count": 35,
   "metadata": {},
   "outputs": [
    {
     "name": "stdout",
     "output_type": "stream",
     "text": [
      "Array a:\n",
      "[[[0.15657837 0.66157313 0.90585511 0.55729028 0.68528078]\n",
      "  [0.54217501 0.68376847 0.33261482 0.45314881 0.02946348]\n",
      "  [0.42287962 0.31126538 0.77528486 0.37708212 0.47762633]]\n",
      "\n",
      " [[0.25515175 0.8897084  0.21114273 0.43532507 0.43861866]\n",
      "  [0.80239005 0.08887557 0.55372881 0.76260528 0.99937611]\n",
      "  [0.13438457 0.7015668  0.89508288 0.40682671 0.72024678]]]\n",
      "\n",
      "Array d (a + c):\n",
      "[[[1.15657837 1.66157313 1.90585511 1.55729028 1.68528078]\n",
      "  [1.54217501 1.68376847 1.33261482 1.45314881 1.02946348]\n",
      "  [1.42287962 1.31126538 1.77528486 1.37708212 1.47762633]]\n",
      "\n",
      " [[1.25515175 1.8897084  1.21114273 1.43532507 1.43861866]\n",
      "  [1.80239005 1.08887557 1.55372881 1.76260528 1.99937611]\n",
      "  [1.13438457 1.7015668  1.89508288 1.40682671 1.72024678]]]\n"
     ]
    }
   ],
   "source": [
    "print(\"Array a:\")\n",
    "print(a)\n",
    "\n",
    "print(\"\\nArray d (a + c):\")\n",
    "print(d)\n",
    " #Every element in d is exactly 1 more than the corresponding element in a"
   ]
  },
  {
   "cell_type": "markdown",
   "metadata": {},
   "source": [
    "#### 12. Multiply *a* and *c*. Assign the result to *e*."
   ]
  },
  {
   "cell_type": "code",
   "execution_count": 37,
   "metadata": {},
   "outputs": [
    {
     "name": "stdout",
     "output_type": "stream",
     "text": [
      "[[[0.15657837 0.66157313 0.90585511 0.55729028 0.68528078]\n",
      "  [0.54217501 0.68376847 0.33261482 0.45314881 0.02946348]\n",
      "  [0.42287962 0.31126538 0.77528486 0.37708212 0.47762633]]\n",
      "\n",
      " [[0.25515175 0.8897084  0.21114273 0.43532507 0.43861866]\n",
      "  [0.80239005 0.08887557 0.55372881 0.76260528 0.99937611]\n",
      "  [0.13438457 0.7015668  0.89508288 0.40682671 0.72024678]]]\n"
     ]
    }
   ],
   "source": [
    "e = a * c\n",
    "print(e)"
   ]
  },
  {
   "cell_type": "markdown",
   "metadata": {},
   "source": [
    "#### 13. Does *e* equal to *a*? Why or why not?\n"
   ]
  },
  {
   "cell_type": "code",
   "execution_count": null,
   "metadata": {},
   "outputs": [],
   "source": [
    "# yess because multiplying by an array of ones doesn’t change the original values in a."
   ]
  },
  {
   "cell_type": "markdown",
   "metadata": {},
   "source": [
    "#### 14. Identify the max, min, and mean values in *d*. Assign those values to variables *d_max*, *d_min* and *d_mean*."
   ]
  },
  {
   "cell_type": "code",
   "execution_count": 39,
   "metadata": {},
   "outputs": [
    {
     "name": "stdout",
     "output_type": "stream",
     "text": [
      "Max value in d: 1.9993761069929663\n",
      "Min value in d: 1.029463478396011\n",
      "Mean value in d: 1.522230557687829\n"
     ]
    }
   ],
   "source": [
    "d_max = d.max()\n",
    "d_min = d.min()\n",
    "d_mean = d.mean()\n",
    "\n",
    "print(\"Max value in d:\", d_max)\n",
    "print(\"Min value in d:\", d_min)\n",
    "print(\"Mean value in d:\", d_mean)\n"
   ]
  },
  {
   "cell_type": "markdown",
   "metadata": {},
   "source": [
    "#### 15. Now we want to label the values in *d*. First create an empty array *f* with the same shape (i.e. 2x3x5) as *d* using `np.empty`.\n"
   ]
  },
  {
   "cell_type": "code",
   "execution_count": 41,
   "metadata": {},
   "outputs": [
    {
     "name": "stdout",
     "output_type": "stream",
     "text": [
      "[[[0.15657837 0.66157313 0.90585511 0.55729028 0.68528078]\n",
      "  [0.54217501 0.68376847 0.33261482 0.45314881 0.02946348]\n",
      "  [0.42287962 0.31126538 0.77528486 0.37708212 0.47762633]]\n",
      "\n",
      " [[0.25515175 0.8897084  0.21114273 0.43532507 0.43861866]\n",
      "  [0.80239005 0.08887557 0.55372881 0.76260528 0.99937611]\n",
      "  [0.13438457 0.7015668  0.89508288 0.40682671 0.72024678]]]\n"
     ]
    }
   ],
   "source": [
    "f = np.empty(d.shape)\n",
    "print(f)"
   ]
  },
  {
   "cell_type": "markdown",
   "metadata": {},
   "source": [
    "#### 16. Populate the values in *f*. \n",
    "\n",
    "For each value in *d*, if it's larger than *d_min* but smaller than *d_mean*, assign 25 to the corresponding value in *f*. If a value in *d* is larger than *d_mean* but smaller than *d_max*, assign 75 to the corresponding value in *f*. If a value equals to *d_mean*, assign 50 to the corresponding value in *f*. Assign 0 to the corresponding value(s) in *f* for *d_min* in *d*. Assign 100 to the corresponding value(s) in *f* for *d_max* in *d*. In the end, f should have only the following values: 0, 25, 50, 75, and 100.\n",
    "\n",
    "**Note**: you don't have to use Numpy in this question."
   ]
  },
  {
   "cell_type": "code",
   "execution_count": 43,
   "metadata": {},
   "outputs": [
    {
     "name": "stdout",
     "output_type": "stream",
     "text": [
      "[[[ 25.  75.  75.  75.  75.]\n",
      "  [ 75.  75.  25.  25.   0.]\n",
      "  [ 25.  25.  75.  25.  25.]]\n",
      "\n",
      " [[ 25.  75.  25.  25.  25.]\n",
      "  [ 75.  25.  75.  75. 100.]\n",
      "  [ 25.  75.  75.  25.  75.]]]\n"
     ]
    }
   ],
   "source": [
    "\n",
    "for i in range(d.shape[0]):\n",
    "    for j in range(d.shape[1]):\n",
    "        for k in range(d.shape[2]):\n",
    "            value = d[i, j, k]\n",
    "            if value == d_min:\n",
    "                f[i, j, k] = 0\n",
    "            elif value == d_max:\n",
    "                f[i, j, k] = 100\n",
    "            elif value == d_mean:\n",
    "                f[i, j, k] = 50\n",
    "            elif d_min < value < d_mean:\n",
    "                f[i, j, k] = 25\n",
    "            elif d_mean < value < d_max:\n",
    "                f[i, j, k] = 75\n",
    "\n",
    "print(f)"
   ]
  },
  {
   "cell_type": "markdown",
   "metadata": {},
   "source": [
    "#### 17. Print *d* and *f*. Do you have your expected *f*?\n",
    "For instance, if your *d* is:\n",
    "```python\n",
    "[[[1.85836099, 1.67064465, 1.62576044, 1.40243961, 1.88454931],\n",
    "[1.75354326, 1.69403643, 1.36729252, 1.61415071, 1.12104981],\n",
    "[1.72201435, 1.1862918 , 1.87078449, 1.7726778 , 1.88180042]],\n",
    "[[1.44747908, 1.31673383, 1.02000951, 1.52218947, 1.97066381],\n",
    "[1.79129243, 1.74983003, 1.96028037, 1.85166831, 1.65450881],\n",
    "[1.18068344, 1.9587381 , 1.00656599, 1.93402165, 1.73514584]]]\n",
    "```\n",
    "Your *f* should be:\n",
    "```python\n",
    "[[[ 75.,  75.,  75.,  25.,  75.],\n",
    "[ 75.,  75.,  25.,  25.,  25.],\n",
    "[ 75.,  25.,  75.,  75.,  75.]],\n",
    "[[ 25.,  25.,  25.,  25., 100.],\n",
    "[ 75.,  75.,  75.,  75.,  75.],\n",
    "[ 25.,  75.,   0.,  75.,  75.]]]\n",
    "```"
   ]
  },
  {
   "cell_type": "code",
   "execution_count": 45,
   "metadata": {},
   "outputs": [
    {
     "name": "stdout",
     "output_type": "stream",
     "text": [
      "[[[1.15657837 1.66157313 1.90585511 1.55729028 1.68528078]\n",
      "  [1.54217501 1.68376847 1.33261482 1.45314881 1.02946348]\n",
      "  [1.42287962 1.31126538 1.77528486 1.37708212 1.47762633]]\n",
      "\n",
      " [[1.25515175 1.8897084  1.21114273 1.43532507 1.43861866]\n",
      "  [1.80239005 1.08887557 1.55372881 1.76260528 1.99937611]\n",
      "  [1.13438457 1.7015668  1.89508288 1.40682671 1.72024678]]]\n",
      "[[[ 25.  75.  75.  75.  75.]\n",
      "  [ 75.  75.  25.  25.   0.]\n",
      "  [ 25.  25.  75.  25.  25.]]\n",
      "\n",
      " [[ 25.  75.  25.  25.  25.]\n",
      "  [ 75.  25.  75.  75. 100.]\n",
      "  [ 25.  75.  75.  25.  75.]]]\n"
     ]
    }
   ],
   "source": [
    "\n",
    "print(d)\n",
    "\n",
    "print(f)"
   ]
  },
  {
   "cell_type": "markdown",
   "metadata": {},
   "source": [
    "#### 18. Bonus question: instead of using numbers (i.e. 0, 25, 50, 75, and 100), use string values  (\"A\", \"B\", \"C\", \"D\", and \"E\") to label the array elements. For the example above, the expected result is:\n",
    "\n",
    "```python\n",
    "[[[ 'D',  'D',  'D',  'B',  'D'],\n",
    "[ 'D',  'D',  'B',  'B',  'B'],\n",
    "[ 'D',  'B',  'D',  'D',  'D']],\n",
    "[[ 'B',  'B',  'B',  'B',  'E'],\n",
    "[ 'D',  'D',  'D',  'D',  'D'],\n",
    "[ 'B',  'D',   'A',  'D', 'D']]]\n",
    "```\n",
    "**Note**: you don't have to use Numpy in this question."
   ]
  },
  {
   "cell_type": "code",
   "execution_count": 47,
   "metadata": {},
   "outputs": [
    {
     "name": "stdout",
     "output_type": "stream",
     "text": [
      "Array d (values):\n",
      "[[[1.15657837 1.66157313 1.90585511 1.55729028 1.68528078]\n",
      "  [1.54217501 1.68376847 1.33261482 1.45314881 1.02946348]\n",
      "  [1.42287962 1.31126538 1.77528486 1.37708212 1.47762633]]\n",
      "\n",
      " [[1.25515175 1.8897084  1.21114273 1.43532507 1.43861866]\n",
      "  [1.80239005 1.08887557 1.55372881 1.76260528 1.99937611]\n",
      "  [1.13438457 1.7015668  1.89508288 1.40682671 1.72024678]]]\n",
      "\n",
      "Array f_str (labels):\n",
      "[[['B' 'D' 'D' 'D' 'D']\n",
      "  ['D' 'D' 'B' 'B' 'A']\n",
      "  ['B' 'B' 'D' 'B' 'B']]\n",
      "\n",
      " [['B' 'D' 'B' 'B' 'B']\n",
      "  ['D' 'B' 'D' 'D' 'E']\n",
      "  ['B' 'D' 'D' 'B' 'D']]]\n"
     ]
    }
   ],
   "source": [
    "\n",
    "f_str = np.empty(d.shape, dtype=object)\n",
    "\n",
    "# Loop through and assign labels\n",
    "for i in range(d.shape[0]):\n",
    "    for j in range(d.shape[1]):\n",
    "        for k in range(d.shape[2]):\n",
    "            value = d[i, j, k]\n",
    "            if value == d_min:\n",
    "                f_str[i, j, k] = 'A'\n",
    "            elif value == d_max:\n",
    "                f_str[i, j, k] = 'E'\n",
    "            elif value == d_mean:\n",
    "                f_str[i, j, k] = 'C'\n",
    "            elif d_min < value < d_mean:\n",
    "                f_str[i, j, k] = 'B'\n",
    "            elif d_mean < value < d_max:\n",
    "                f_str[i, j, k] = 'D'\n",
    "\n",
    "\n",
    "print(\"Array d (values):\")\n",
    "print(d)\n",
    "\n",
    "print(\"\\nArray f_str (labels):\")\n",
    "print(f_str)\n"
   ]
  },
  {
   "cell_type": "code",
   "execution_count": null,
   "metadata": {},
   "outputs": [],
   "source": []
  }
 ],
 "metadata": {
  "kernelspec": {
   "display_name": "Python [conda env:base] *",
   "language": "python",
   "name": "conda-base-py"
  },
  "language_info": {
   "codemirror_mode": {
    "name": "ipython",
    "version": 3
   },
   "file_extension": ".py",
   "mimetype": "text/x-python",
   "name": "python",
   "nbconvert_exporter": "python",
   "pygments_lexer": "ipython3",
   "version": "3.12.7"
  }
 },
 "nbformat": 4,
 "nbformat_minor": 4
}
